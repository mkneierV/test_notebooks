{
 "cells": [
  {
   "cell_type": "code",
   "execution_count": 54,
   "metadata": {},
   "outputs": [],
   "source": [
    "import tensorflow as tf\n",
    "\n",
    "TRAIN_PATH = '/home/jupyter/bwt_data/transformed/train/*.csv'\n",
    "EVAL_PATH  = '/home/jupyter/bwt_data/transformed/eval/*.csv'\n",
    "TEST_PATH  = '/home/jupyter/bwt_data/transformed/test/*.csv'\n",
    "LABEL_COLUMN = \"weight_pounds\"\n",
    "\n",
    "def get_dataset(file_path, **kwargs):\n",
    "    dataset = tf.data.experimental.make_csv_dataset(\n",
    "        file_path,\n",
    "        batch_size=5, # Artificially small to make examples easier to show.\n",
    "        label_name=LABEL_COLUMN,\n",
    "        na_value=\"UKN\",\n",
    "        num_epochs=1,\n",
    "        ignore_errors=True, \n",
    "        **kwargs\n",
    "    )\n",
    "    return dataset\n",
    "\n",
    "train_data = get_dataset(TRAIN_PATH)\n",
    "eval_data  = get_dataset(EVAL_PATH)\n",
    "test_data  = get_dataset(TEST_PATH)\n"
   ]
  },
  {
   "cell_type": "code",
   "execution_count": 55,
   "metadata": {},
   "outputs": [],
   "source": [
    "categorical_columns = []\n",
    "categorical_columns.append(\n",
    "    tf.feature_column.indicator_column(\n",
    "        tf.feature_column.categorical_column_with_vocabulary_list('mother_race', vocabulary_list=['White', 'Black', 'American Indian', 'Chinese', 'Japanese', 'Hawaiian', 'Filipino', 'Asian Indian', 'Korean', 'Samaon', 'Vietnamese', 'Unkown'])\n",
    "    )\n",
    ")\n",
    "categorical_columns.append(\n",
    "    tf.feature_column.indicator_column(\n",
    "        tf.feature_column.categorical_column_with_vocabulary_list(\"plurality\", vocabulary_list=[1,2,3])\n",
    "    )\n",
    ")\n",
    "\n",
    "numeric_columns = []\n",
    "numeric_columns.append(\n",
    "    tf.feature_column.numeric_column(\"mother_age\")\n",
    ")\n",
    "numeric_columns.append(\n",
    "    tf.feature_column.numeric_column(\"gestation_weeks\")\n",
    ")\n",
    "\n",
    "preprocessing_layer = tf.keras.layers.DenseFeatures(categorical_columns+numeric_columns)"
   ]
  },
  {
   "cell_type": "code",
   "execution_count": null,
   "metadata": {},
   "outputs": [
    {
     "name": "stdout",
     "output_type": "stream",
     "text": [
      "Epoch 1/5\n",
      "20000/20000 [==============================] - 317s 16ms/step - loss: 1.3966 - mae: 0.9009 - mse: 1.3966 - val_loss: 0.0000e+00 - val_mae: 0.0000e+00 - val_mse: 0.0000e+00\n",
      "Epoch 2/5\n",
      "20000/20000 [==============================] - 248s 12ms/step - loss: 1.2919 - mae: 0.8730 - mse: 1.2918 - val_loss: 1.1715 - val_mae: 0.8371 - val_mse: 1.1715\n",
      "Epoch 3/5\n",
      "20000/20000 [==============================] - 238s 12ms/step - loss: 1.2569 - mae: 0.8635 - mse: 1.2569 - val_loss: 1.1420 - val_mae: 0.8302 - val_mse: 1.1421\n",
      "Epoch 4/5\n",
      "20000/20000 [==============================] - 244s 12ms/step - loss: 1.2386 - mae: 0.8598 - mse: 1.2387 - val_loss: 1.3832 - val_mae: 0.9184 - val_mse: 1.3832\n",
      "Epoch 5/5\n",
      "20000/20000 [==============================] - 235s 12ms/step - loss: 1.2261 - mae: 0.8559 - mse: 1.2261 - val_loss: 1.1219 - val_mae: 0.8224 - val_mse: 1.1219\n",
      "   5883/Unknown - 47s 8ms/step - loss: 1.1047 - mae: 0.8134 - mse: 1.1047- 44s 8ms/step -  - 44s 8ms/step - loss: 1.104 - 45s 8ms/step - loss: 1.1064 - mae: 0.8136 - mse: 1.10 - 45s 8ms/step - loss: 1.1063 - mae: 0.8136 - m - 4"
     ]
    }
   ],
   "source": [
    "model = tf.keras.Sequential([\n",
    "  preprocessing_layer,\n",
    "  tf.keras.layers.Dense(128, activation='relu'),\n",
    "  tf.keras.layers.Dense(64, activation='relu'),\n",
    "  tf.keras.layers.Dense(1, kernel_initializer='normal')\n",
    "])\n",
    "\n",
    "optimizer = tf.keras.optimizers.RMSprop(0.001)\n",
    "\n",
    "model.compile(loss='mse',\n",
    "                optimizer=optimizer,\n",
    "                metrics=['mae', 'mse'])\n",
    "\n",
    "model.fit(train_data,\n",
    "          validation_data=eval_data,\n",
    "          epochs=5)\n",
    "\n",
    "test_metrics = model.evaluate(test_data)\n",
    "print(\"Test Performance: MAE = {}, MSE = {}\".format(*test_metrics[1:]))"
   ]
  },
  {
   "cell_type": "code",
   "execution_count": null,
   "metadata": {},
   "outputs": [],
   "source": []
  }
 ],
 "metadata": {
  "kernelspec": {
   "display_name": "Python 3",
   "language": "python",
   "name": "python3"
  },
  "language_info": {
   "codemirror_mode": {
    "name": "ipython",
    "version": 3
   },
   "file_extension": ".py",
   "mimetype": "text/x-python",
   "name": "python",
   "nbconvert_exporter": "python",
   "pygments_lexer": "ipython3",
   "version": "3.5.3"
  }
 },
 "nbformat": 4,
 "nbformat_minor": 4
}
